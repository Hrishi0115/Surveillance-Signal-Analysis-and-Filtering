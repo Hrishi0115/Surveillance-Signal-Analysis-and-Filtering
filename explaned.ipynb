{
 "cells": [
  {
   "cell_type": "markdown",
   "metadata": {},
   "source": [
    "In digital signal processing, The Fourier Transform (FT) is used to convert the time domain signal (input) into the frequency domain.\n",
    "\n",
    "\n",
    "This is typically achieved through the Discrete Fourier Transform (DFT), espically when working with digital data.\n",
    "\n",
    "\n",
    "The DFT of a sequence $x[n]$ is given by:\n",
    "\n",
    "$$\n",
    "X[k] = \\sum_{n=0}^{N-1} (x[n] \\cdot e^{-j 2 \\pi kn/N})\n",
    "$$\n",
    "\n",
    "where $X[k]$ is the DFT output at frequency index $k$\n",
    "\n",
    "$x[n]$ is the signal at time index $n$\n",
    "\n",
    "$N$ is the total number of samples\n",
    "\n",
    "$j$ is the imaginary unit."
   ]
  }
 ],
 "metadata": {
  "language_info": {
   "name": "python"
  }
 },
 "nbformat": 4,
 "nbformat_minor": 2
}
